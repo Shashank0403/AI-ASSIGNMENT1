{
 "cells": [
  {
   "cell_type": "code",
   "execution_count": 1,
   "id": "01491462",
   "metadata": {},
   "outputs": [],
   "source": [
    "from tensorflow.keras.preprocessing.image import ImageDataGenerator\n",
    "from tensorflow.keras.layers import Conv2D, MaxPooling2D, Flatten, Dense\n",
    "from tensorflow.keras.models import Sequential\n"
   ]
  },
  {
   "cell_type": "code",
   "execution_count": 2,
   "id": "ec4cff5c",
   "metadata": {},
   "outputs": [],
   "source": [
    "# Data Augmentation\n",
    "train_gen = ImageDataGenerator(\n",
    "    rescale=1./255,\n",
    "    horizontal_flip=True,\n",
    "    shear_range=0.2\n",
    ")\n",
    "\n",
    "test_gen = ImageDataGenerator(rescale=1./255)"
   ]
  },
  {
   "cell_type": "code",
   "execution_count": 3,
   "id": "e2e76d6e",
   "metadata": {},
   "outputs": [
    {
     "name": "stdout",
     "output_type": "stream",
     "text": [
      "Found 150 images belonging to 16 classes.\n",
      "Found 157 images belonging to 16 classes.\n"
     ]
    }
   ],
   "source": [
    "train = train_gen.flow_from_directory(\n",
    "    'C:\\\\Users\\\\mohan\\\\Downloads\\\\train_data',\n",
    "    target_size=(224, 224),\n",
    "    class_mode='categorical',\n",
    "    batch_size=8\n",
    ")\n",
    "\n",
    "test = test_gen.flow_from_directory(\n",
    "    'C:\\\\Users\\\\mohan\\\\Downloads\\\\test_data',\n",
    "    target_size=(224, 224),\n",
    "    class_mode='categorical',\n",
    "    batch_size=8\n",
    ")"
   ]
  },
  {
   "cell_type": "code",
   "execution_count": 4,
   "id": "9e222b36",
   "metadata": {},
   "outputs": [
    {
     "data": {
      "text/plain": [
       "{'blasti': 0,\n",
       " 'bonegl': 1,\n",
       " 'brhkyt': 2,\n",
       " 'cbrtsh': 3,\n",
       " 'cmnmyn': 4,\n",
       " 'gretit': 5,\n",
       " 'hilpig': 6,\n",
       " 'himbul': 7,\n",
       " 'himgri': 8,\n",
       " 'hsparo': 9,\n",
       " 'indvul': 10,\n",
       " 'jglowl': 11,\n",
       " 'lbicrw': 12,\n",
       " 'mgprob': 13,\n",
       " 'rebimg': 14,\n",
       " 'wcrsrt': 15}"
      ]
     },
     "execution_count": 4,
     "metadata": {},
     "output_type": "execute_result"
    }
   ],
   "source": [
    "train.class_indices\n"
   ]
  },
  {
   "cell_type": "code",
   "execution_count": 6,
   "id": "f092e7cc",
   "metadata": {},
   "outputs": [],
   "source": [
    "#CNN MODEL\n",
    "model = Sequential()\n",
    "model.add(Conv2D(32, (3, 3), activation='relu', input_shape=(224, 224, 3)))\n",
    "model.add(MaxPooling2D((2, 2)))\n",
    "\n",
    "model.add(Conv2D(64, (3, 3), activation='relu'))\n",
    "model.add(MaxPooling2D((2, 2)))\n",
    "\n",
    "model.add(Conv2D(128, (3, 3), activation='relu'))\n",
    "model.add(MaxPooling2D((2, 2)))\n",
    "\n",
    "model.add(Flatten())\n",
    "model.add(Dense(128, activation='relu'))\n",
    "model.add(Dense(train.num_classes, activation='softmax'))"
   ]
  },
  {
   "cell_type": "code",
   "execution_count": 7,
   "id": "e9b92b11",
   "metadata": {},
   "outputs": [],
   "source": [
    "model.compile(optimizer='adam', loss='categorical_crossentropy', metrics=['accuracy'])\n"
   ]
  },
  {
   "cell_type": "code",
   "execution_count": 8,
   "id": "85dee44c",
   "metadata": {},
   "outputs": [
    {
     "name": "stdout",
     "output_type": "stream",
     "text": [
      "Model: \"sequential\"\n",
      "_________________________________________________________________\n",
      " Layer (type)                Output Shape              Param #   \n",
      "=================================================================\n",
      " conv2d (Conv2D)             (None, 222, 222, 32)      896       \n",
      "                                                                 \n",
      " max_pooling2d (MaxPooling2D  (None, 111, 111, 32)     0         \n",
      " )                                                               \n",
      "                                                                 \n",
      " conv2d_1 (Conv2D)           (None, 109, 109, 64)      18496     \n",
      "                                                                 \n",
      " max_pooling2d_1 (MaxPooling  (None, 54, 54, 64)       0         \n",
      " 2D)                                                             \n",
      "                                                                 \n",
      " conv2d_2 (Conv2D)           (None, 52, 52, 128)       73856     \n",
      "                                                                 \n",
      " max_pooling2d_2 (MaxPooling  (None, 26, 26, 128)      0         \n",
      " 2D)                                                             \n",
      "                                                                 \n",
      " flatten (Flatten)           (None, 86528)             0         \n",
      "                                                                 \n",
      " dense (Dense)               (None, 128)               11075712  \n",
      "                                                                 \n",
      " dense_1 (Dense)             (None, 16)                2064      \n",
      "                                                                 \n",
      "=================================================================\n",
      "Total params: 11,171,024\n",
      "Trainable params: 11,171,024\n",
      "Non-trainable params: 0\n",
      "_________________________________________________________________\n"
     ]
    }
   ],
   "source": [
    "model.summary()\n"
   ]
  },
  {
   "cell_type": "code",
   "execution_count": 9,
   "id": "e7b33f87",
   "metadata": {},
   "outputs": [
    {
     "name": "stdout",
     "output_type": "stream",
     "text": [
      "Epoch 1/10\n",
      "19/19 [==============================] - 67s 4s/step - loss: 3.0439 - accuracy: 0.1267 - val_loss: 2.7268 - val_accuracy: 0.1274\n",
      "Epoch 2/10\n",
      "19/19 [==============================] - 64s 3s/step - loss: 2.5666 - accuracy: 0.2000 - val_loss: 2.7404 - val_accuracy: 0.1274\n",
      "Epoch 3/10\n",
      "19/19 [==============================] - 63s 3s/step - loss: 2.5092 - accuracy: 0.1867 - val_loss: 2.7207 - val_accuracy: 0.1338\n",
      "Epoch 4/10\n",
      "19/19 [==============================] - 64s 3s/step - loss: 2.4048 - accuracy: 0.2067 - val_loss: 2.6721 - val_accuracy: 0.1720\n",
      "Epoch 5/10\n",
      "19/19 [==============================] - 77s 4s/step - loss: 2.2932 - accuracy: 0.2067 - val_loss: 2.7198 - val_accuracy: 0.1083\n",
      "Epoch 6/10\n",
      "19/19 [==============================] - 72s 4s/step - loss: 2.1982 - accuracy: 0.2800 - val_loss: 2.7705 - val_accuracy: 0.1592\n",
      "Epoch 7/10\n",
      "19/19 [==============================] - 67s 4s/step - loss: 1.9299 - accuracy: 0.4133 - val_loss: 3.1716 - val_accuracy: 0.1783\n",
      "Epoch 8/10\n",
      "19/19 [==============================] - 70s 4s/step - loss: 1.8512 - accuracy: 0.4267 - val_loss: 3.2591 - val_accuracy: 0.2102\n",
      "Epoch 9/10\n",
      "19/19 [==============================] - 69s 4s/step - loss: 1.3655 - accuracy: 0.5533 - val_loss: 3.9734 - val_accuracy: 0.2357\n",
      "Epoch 10/10\n",
      "19/19 [==============================] - 71s 4s/step - loss: 1.2378 - accuracy: 0.6000 - val_loss: 3.3789 - val_accuracy: 0.2229\n"
     ]
    },
    {
     "data": {
      "text/plain": [
       "<keras.callbacks.History at 0x1ddbb80c400>"
      ]
     },
     "execution_count": 9,
     "metadata": {},
     "output_type": "execute_result"
    }
   ],
   "source": [
    "# Training the model\n",
    "model.fit(train, batch_size=8, validation_data=test, epochs=10)\n"
   ]
  },
  {
   "cell_type": "code",
   "execution_count": 10,
   "id": "b1c68bd0",
   "metadata": {},
   "outputs": [],
   "source": [
    "model.save('birdSpeciesModel.h5')\n"
   ]
  },
  {
   "cell_type": "code",
   "execution_count": 11,
   "id": "7ef8c270",
   "metadata": {},
   "outputs": [],
   "source": [
    "# Testing\n",
    "\n",
    "import numpy as np\n",
    "from tensorflow.keras.preprocessing import image"
   ]
  },
  {
   "cell_type": "code",
   "execution_count": 17,
   "id": "742fc29d",
   "metadata": {},
   "outputs": [
    {
     "name": "stdout",
     "output_type": "stream",
     "text": [
      "1/1 [==============================] - 0s 139ms/step\n",
      "4\n",
      "cmnmyn\n"
     ]
    }
   ],
   "source": [
    "#Testing-1\n",
    "from tensorflow.keras.preprocessing import image\n",
    "import numpy as np\n",
    "from PIL import Image\n",
    "\n",
    "# Load and resize the image\n",
    "img = Image.open('C:\\\\Users\\\\mohan\\\\Downloads\\\\test_data\\\\jglowl\\\\_D32_13516.jpg')\n",
    "img = img.resize((224, 224))  # Resize the image to match the input size expected by the model\n",
    "\n",
    "# Convert the image to an array\n",
    "img_array = image.img_to_array(img)\n",
    "img_array = np.expand_dims(img_array, axis=0)\n",
    "\n",
    "# Normalize the pixel values\n",
    "img_array = img_array / 255.0\n",
    "\n",
    "# Make predictions\n",
    "pred = np.argmax(model.predict(img_array))\n",
    "\n",
    "# Define class labels\n",
    "output = ['blasti', 'bonegl', 'brhkyt', 'cbrtsh', 'cmnmyn', 'gretit', 'hilpig', 'himbul', 'himgri', 'hsparo',\n",
    "          'indvul', 'jglowl', 'lbicrw', 'mgprob', 'rebimg', 'wcrst']\n",
    "\n",
    "# Print the predicted class index and corresponding bird species\n",
    "print(pred)\n",
    "print(output[pred])\n"
   ]
  },
  {
   "cell_type": "code",
   "execution_count": 22,
   "id": "bf311085",
   "metadata": {},
   "outputs": [
    {
     "name": "stdout",
     "output_type": "stream",
     "text": [
      "1/1 [==============================] - 0s 36ms/step\n",
      "12\n",
      "lbicrw\n"
     ]
    }
   ],
   "source": [
    "#Testing-2\n",
    "from tensorflow.keras.preprocessing import image\n",
    "import numpy as np\n",
    "from PIL import Image\n",
    "\n",
    "# Load and resize the image\n",
    "img = Image.open('C:\\\\Users\\\\mohan\\\\Downloads\\\\test_data\\\\brhkyt\\\\D72_0475.jpg')\n",
    "img = img.resize((224, 224))  # Resize the image to match the input size expected by the model\n",
    "\n",
    "# Convert the image to an array\n",
    "img_array = image.img_to_array(img)\n",
    "img_array = np.expand_dims(img_array, axis=0)\n",
    "\n",
    "# Normalize the pixel values\n",
    "img_array = img_array / 255.0\n",
    "\n",
    "# Make predictions\n",
    "pred = np.argmax(model.predict(img_array))\n",
    "\n",
    "# Define class labels\n",
    "output = ['blasti', 'bonegl', 'brhkyt', 'cbrtsh', 'cmnmyn', 'gretit', 'hilpig', 'himbul', 'himgri', 'hsparo',\n",
    "          'indvul', 'jglowl', 'lbicrw', 'mgprob', 'rebimg', 'wcrst']\n",
    "\n",
    "# Print the predicted class index and corresponding bird species\n",
    "print(pred)\n",
    "print(output[pred])"
   ]
  },
  {
   "cell_type": "code",
   "execution_count": 21,
   "id": "26e48ca1",
   "metadata": {},
   "outputs": [
    {
     "name": "stdout",
     "output_type": "stream",
     "text": [
      "1/1 [==============================] - 0s 49ms/step\n",
      "9\n",
      "hsparo\n"
     ]
    }
   ],
   "source": [
    "#Testing-3\n",
    "from tensorflow.keras.preprocessing import image\n",
    "import numpy as np\n",
    "from PIL import Image\n",
    "\n",
    "# Load and resize the image\n",
    "img = Image.open('C:\\\\Users\\\\mohan\\\\Downloads\\\\test_data\\\\wcrsrt\\\\100_4464.JPG')\n",
    "img = img.resize((224, 224))  # Resize the image to match the input size expected by the model\n",
    "\n",
    "# Convert the image to an array\n",
    "img_array = image.img_to_array(img)\n",
    "img_array = np.expand_dims(img_array, axis=0)\n",
    "\n",
    "# Normalize the pixel values\n",
    "img_array = img_array / 255.0\n",
    "\n",
    "# Make predictions\n",
    "pred = np.argmax(model.predict(img_array))\n",
    "\n",
    "# Define class labels\n",
    "output = ['blasti', 'bonegl', 'brhkyt', 'cbrtsh', 'cmnmyn', 'gretit', 'hilpig', 'himbul', 'himgri', 'hsparo',\n",
    "          'indvul', 'jglowl', 'lbicrw', 'mgprob', 'rebimg', 'wcrst']\n",
    "\n",
    "# Print the predicted class index and corresponding bird species\n",
    "print(pred)\n",
    "print(output[pred])"
   ]
  },
  {
   "cell_type": "code",
   "execution_count": 23,
   "id": "5ad19d6d",
   "metadata": {},
   "outputs": [
    {
     "name": "stdout",
     "output_type": "stream",
     "text": [
      "1/1 [==============================] - 0s 58ms/step\n",
      "10\n",
      "indvul\n"
     ]
    }
   ],
   "source": [
    "#Testing-4\n",
    "from tensorflow.keras.preprocessing import image\n",
    "import numpy as np\n",
    "from PIL import Image\n",
    "\n",
    "# Load and resize the image\n",
    "img = Image.open('C:\\\\Users\\\\mohan\\\\Downloads\\\\test_data\\\\indvul\\\\IMG_5489.JPG')\n",
    "img = img.resize((224, 224))  # Resize the image to match the input size expected by the model\n",
    "\n",
    "# Convert the image to an array\n",
    "img_array = image.img_to_array(img)\n",
    "img_array = np.expand_dims(img_array, axis=0)\n",
    "\n",
    "# Normalize the pixel values\n",
    "img_array = img_array / 255.0\n",
    "\n",
    "# Make predictions\n",
    "pred = np.argmax(model.predict(img_array))\n",
    "\n",
    "# Define class labels\n",
    "output = ['blasti', 'bonegl', 'brhkyt', 'cbrtsh', 'cmnmyn', 'gretit', 'hilpig', 'himbul', 'himgri', 'hsparo',\n",
    "          'indvul', 'jglowl', 'lbicrw', 'mgprob', 'rebimg', 'wcrst']\n",
    "\n",
    "# Print the predicted class index and corresponding bird species\n",
    "print(pred)\n",
    "print(output[pred])"
   ]
  },
  {
   "cell_type": "code",
   "execution_count": 25,
   "id": "25a31434",
   "metadata": {},
   "outputs": [
    {
     "name": "stdout",
     "output_type": "stream",
     "text": [
      "1/1 [==============================] - 0s 50ms/step\n",
      "8\n",
      "himgri\n"
     ]
    }
   ],
   "source": [
    "#Testing-5\n",
    "from tensorflow.keras.preprocessing import image\n",
    "import numpy as np\n",
    "from PIL import Image\n",
    "\n",
    "# Load and resize the image\n",
    "img = Image.open('C:\\\\Users\\\\mohan\\\\Downloads\\\\test_data\\\\himgri\\\\_D32_10311.jpg')\n",
    "img = img.resize((224, 224))  # Resize the image to match the input size expected by the model\n",
    "\n",
    "# Convert the image to an array\n",
    "img_array = image.img_to_array(img)\n",
    "img_array = np.expand_dims(img_array, axis=0)\n",
    "\n",
    "# Normalize the pixel values\n",
    "img_array = img_array / 255.0\n",
    "\n",
    "# Make predictions\n",
    "pred = np.argmax(model.predict(img_array))\n",
    "\n",
    "# Define class labels\n",
    "output = ['blasti', 'bonegl', 'brhkyt', 'cbrtsh', 'cmnmyn', 'gretit', 'hilpig', 'himbul', 'himgri', 'hsparo',\n",
    "          'indvul', 'jglowl', 'lbicrw', 'mgprob', 'rebimg', 'wcrst']\n",
    "\n",
    "# Print the predicted class index and corresponding bird species\n",
    "print(pred)\n",
    "print(output[pred])"
   ]
  },
  {
   "cell_type": "code",
   "execution_count": null,
   "id": "8c219e59",
   "metadata": {},
   "outputs": [],
   "source": []
  }
 ],
 "metadata": {
  "kernelspec": {
   "display_name": "Python 3 (ipykernel)",
   "language": "python",
   "name": "python3"
  },
  "language_info": {
   "codemirror_mode": {
    "name": "ipython",
    "version": 3
   },
   "file_extension": ".py",
   "mimetype": "text/x-python",
   "name": "python",
   "nbconvert_exporter": "python",
   "pygments_lexer": "ipython3",
   "version": "3.9.13"
  }
 },
 "nbformat": 4,
 "nbformat_minor": 5
}
