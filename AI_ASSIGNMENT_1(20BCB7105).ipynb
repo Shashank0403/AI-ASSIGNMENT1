{
  "nbformat": 4,
  "nbformat_minor": 0,
  "metadata": {
    "colab": {
      "provenance": [],
      "authorship_tag": "ABX9TyNOyJj5heu/paHjwdTt6R6U",
      "include_colab_link": true
    },
    "kernelspec": {
      "name": "python3",
      "display_name": "Python 3"
    },
    "language_info": {
      "name": "python"
    }
  },
  "cells": [
    {
      "cell_type": "markdown",
      "metadata": {
        "id": "view-in-github",
        "colab_type": "text"
      },
      "source": [
        "<a href=\"https://colab.research.google.com/github/Shashank0403/AI-ASSIGNMENT1/blob/main/AI_ASSIGNMENT_1(20BCB7105).ipynb\" target=\"_parent\"><img src=\"https://colab.research.google.com/assets/colab-badge.svg\" alt=\"Open In Colab\"/></a>"
      ]
    },
    {
      "cell_type": "markdown",
      "source": [
        "Task - 1 Create a pandas dataframe (DataFrame name as 'df') with numpy random values (4 features and 4 observation)\n"
      ],
      "metadata": {
        "id": "R_3oERFtjN2t"
      }
    },
    {
      "cell_type": "code",
      "execution_count": null,
      "metadata": {
        "colab": {
          "base_uri": "https://localhost:8080/"
        },
        "id": "NrPoGAX-hj47",
        "outputId": "d40a4db9-3c38-4416-cdc0-e857e8d56499"
      },
      "outputs": [
        {
          "output_type": "stream",
          "name": "stdout",
          "text": [
            "   Feature1  Feature2  Feature3  Feature4\n",
            "0  0.414644  0.095902  0.192806  0.356998\n",
            "1  0.910864  0.219812  0.179026  0.744134\n",
            "2  0.153315  0.696385  0.730468  0.522375\n",
            "3  0.578972  0.335303  0.781687  0.788730\n"
          ]
        }
      ],
      "source": [
        "import pandas as pd\n",
        "import numpy as np\n",
        "\n",
        "data = np.random.rand(4, 4)\n",
        "df = pd.DataFrame(data, columns=['Feature1', 'Feature2', 'Feature3', 'Feature4'])\n",
        "\n",
        "print(df)\n"
      ]
    },
    {
      "cell_type": "markdown",
      "source": [
        "Task - 2 Rename the task - 1 'df' dataframe column names to 'Random value 1', 'Random value 2', 'Random value 3' & 'Random value 4'\n"
      ],
      "metadata": {
        "id": "pk6exopfjb9u"
      }
    },
    {
      "cell_type": "code",
      "source": [
        "df = df.rename(columns={'Feature1': 'Random value 1',\n",
        "                        'Feature2': 'Random value 2',\n",
        "                        'Feature3': 'Random value 3',\n",
        "                        'Feature4': 'Random value 4'})\n",
        "print(df)\n"
      ],
      "metadata": {
        "colab": {
          "base_uri": "https://localhost:8080/"
        },
        "id": "Xe33KZIDjdEd",
        "outputId": "31f3493a-4c4d-4106-a044-09b663178b08"
      },
      "execution_count": null,
      "outputs": [
        {
          "output_type": "stream",
          "name": "stdout",
          "text": [
            "   Random value 1  Random value 2  Random value 3  Random value 4\n",
            "0        0.414644        0.095902        0.192806        0.356998\n",
            "1        0.910864        0.219812        0.179026        0.744134\n",
            "2        0.153315        0.696385        0.730468        0.522375\n",
            "3        0.578972        0.335303        0.781687        0.788730\n"
          ]
        }
      ]
    },
    {
      "cell_type": "markdown",
      "source": [
        "Task - 3 Find the descriptive statistics of the 'df' dataframe.\n"
      ],
      "metadata": {
        "id": "3aJxsAxejij_"
      }
    },
    {
      "cell_type": "code",
      "source": [
        "statistics = df.describe()\n",
        "print(statistics)\n"
      ],
      "metadata": {
        "colab": {
          "base_uri": "https://localhost:8080/"
        },
        "id": "SaNPPuC8jjHC",
        "outputId": "6e1c320b-9c13-433a-d92a-06d83391dde2"
      },
      "execution_count": null,
      "outputs": [
        {
          "output_type": "stream",
          "name": "stdout",
          "text": [
            "       Random value 1  Random value 2  Random value 3  Random value 4\n",
            "count        4.000000        4.000000        4.000000        4.000000\n",
            "mean         0.514449        0.336851        0.470997        0.603060\n",
            "std          0.317115        0.258858        0.329894        0.201190\n",
            "min          0.153315        0.095902        0.179026        0.356998\n",
            "25%          0.349312        0.188835        0.189361        0.481031\n",
            "50%          0.496808        0.277558        0.461637        0.633255\n",
            "75%          0.661945        0.425574        0.743273        0.755283\n",
            "max          0.910864        0.696385        0.781687        0.788730\n"
          ]
        }
      ]
    },
    {
      "cell_type": "markdown",
      "source": [
        "Task - 4 Check for the null values in 'df' and find the data type of the columns.\n"
      ],
      "metadata": {
        "id": "QoOEdG45jmV2"
      }
    },
    {
      "cell_type": "code",
      "source": [
        "null_values = df.isnull().sum()\n",
        "data_types = df.dtypes\n",
        "\n",
        "print(\"Null Values:\")\n",
        "print(null_values)\n",
        "\n",
        "print(\"\\nData Types:\")\n",
        "print(data_types)\n"
      ],
      "metadata": {
        "colab": {
          "base_uri": "https://localhost:8080/"
        },
        "id": "OpGwv2OsjnKq",
        "outputId": "69e8b0a5-f8e2-4545-c89e-d6b6846a9ebe"
      },
      "execution_count": null,
      "outputs": [
        {
          "output_type": "stream",
          "name": "stdout",
          "text": [
            "Null Values:\n",
            "Random value 1    0\n",
            "Random value 2    0\n",
            "Random value 3    0\n",
            "Random value 4    0\n",
            "dtype: int64\n",
            "\n",
            "Data Types:\n",
            "Random value 1    float64\n",
            "Random value 2    float64\n",
            "Random value 3    float64\n",
            "Random value 4    float64\n",
            "dtype: object\n"
          ]
        }
      ]
    },
    {
      "cell_type": "markdown",
      "source": [
        "Task - 5 Display the 'Random value 2' & 'Random value 3' columns with location method and index location method."
      ],
      "metadata": {
        "id": "kY7pMV2PjuXo"
      }
    },
    {
      "cell_type": "code",
      "source": [
        "# Location method\n",
        "random_value_2_3_loc = df.loc[:, ['Random value 2', 'Random value 3']]\n",
        "print(random_value_2_3_loc)\n",
        "\n",
        "# Index location method\n",
        "random_value_2_3_iloc = df.iloc[:, [1, 2]]\n",
        "print(random_value_2_3_iloc)\n"
      ],
      "metadata": {
        "colab": {
          "base_uri": "https://localhost:8080/"
        },
        "id": "HbcJ-ojpjwZ1",
        "outputId": "ecf343b0-6f5b-4bec-9b7d-941bc4760e10"
      },
      "execution_count": null,
      "outputs": [
        {
          "output_type": "stream",
          "name": "stdout",
          "text": [
            "   Random value 2  Random value 3\n",
            "0        0.095902        0.192806\n",
            "1        0.219812        0.179026\n",
            "2        0.696385        0.730468\n",
            "3        0.335303        0.781687\n",
            "   Random value 2  Random value 3\n",
            "0        0.095902        0.192806\n",
            "1        0.219812        0.179026\n",
            "2        0.696385        0.730468\n",
            "3        0.335303        0.781687\n"
          ]
        }
      ]
    }
  ]
}